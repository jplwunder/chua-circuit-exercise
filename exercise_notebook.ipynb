{
 "cells": [
  {
   "cell_type": "markdown",
   "metadata": {
    "id": "rENE0Y_W3HKc"
   },
   "source": [
    "# Equações diferenciais e o Circuito de Chua\n",
    "\n",
    "---\n",
    "\n",
    "**Como entregar:** Enviar o seu jupyter notebook (.ipynb) pelo próprio Classroom. Uma cópia deste será automaticamente criada para você no seu Google Drive, você pode usar essa cópia mesmo, sem necessidade de criar outra.\n"
   ]
  },
  {
   "cell_type": "markdown",
   "metadata": {
    "id": "T0A0fXzTs1qj"
   },
   "source": [
    "**Leia com atenção:**\n",
    "\n",
    "\n",
    "*   Você deve fazer obrigatoriamente todas as atividades marcadas com a exclamação❗.\n",
    "*   Atividades marcadas com 🧩 são opcionais.\n",
    "*   Use o Google Colab para executar o notebook e fazer a tarefa, ou baixe no seu computador e faça na API que preferir, mas lembre-se de entregar no Classroom a versão final.\n",
    "*   A atividade vai ser baseada no seu número USP.\n",
    "*   Há questões dissertativas!\n",
    "*   Siga o passo a passo indicado no tutorial, respondendo as perguntas das atividades propostas no seu jupyter notebook.\n",
    "*   O notebook que entregar deve estar 100% funcional, isto é, todos os códigos rodando no Colab sem erros.\n",
    "*   Entregue o notebook completo, com todo conteúdo original e mais os seus códigos e textos.\n",
    "*   Esta tarefa é individual e haverá controle de similaridade. Tentativas de cópias, fraude, compra-venda de EPs não serão toleradas, levando a nota zero na tarefa e posterior análise para medidas cabíveis.\n",
    "*   ❗Exercício 00:❗ Para mostrar que você leu até aqui, escreva seu nome completo (assinatura) na linha a seguir:\n",
    "\n",
    "\n"
   ]
  },
  {
   "cell_type": "markdown",
   "metadata": {
    "id": "ltsW76h6s4ra"
   },
   "source": [
    "*Assinatura:* João Pedro Lopes Wunderlich"
   ]
  },
  {
   "cell_type": "markdown",
   "metadata": {
    "id": "W9MDHtGjs6d_"
   },
   "source": [
    "\n",
    "---\n",
    "\n"
   ]
  },
  {
   "cell_type": "markdown",
   "metadata": {
    "id": "Z8NAcjZ1tU-5"
   },
   "source": [
    "## Preliminares"
   ]
  },
  {
   "cell_type": "code",
   "execution_count": null,
   "metadata": {
    "id": "lcEGovYHtXI4"
   },
   "outputs": [],
   "source": [
    "import numpy as np  # Numpy\n",
    "import matplotlib.pyplot as plt  # Gráficos/figuras\n",
    "from prettytable import PrettyTable  # Tabelas mais bonitinhas"
   ]
  },
  {
   "cell_type": "markdown",
   "metadata": {
    "id": "yLLwEEWCUuXw"
   },
   "source": [
    "Referências:\n",
    "*   https://pythonnumericalmethods.berkeley.edu/notebooks/chapter22.01-ODE-Initial-Value-Problem-Statement.html"
   ]
  },
  {
   "cell_type": "markdown",
   "metadata": {
    "id": "v4vdlUA67p_i"
   },
   "source": [
    "#### ❗Exercício 0❗\n",
    "\n",
    "Preencha o seu número USP abaixo"
   ]
  },
  {
   "cell_type": "code",
   "execution_count": null,
   "metadata": {
    "id": "fUtF9HAL7msF"
   },
   "outputs": [],
   "source": [
    "# Coloque aqui o seu número USP\n",
    "nusp = 10282536\n",
    "\n",
    "nusp_str = str(nusp).replace(\"0\", \"\")\n",
    "\n",
    "magic_ilong = int(nusp_str)\n",
    "magic_int = int(str(magic_ilong)[-1:]) * 10\n",
    "# magic_int = int(list(set(nusp_str))[0])\n",
    "\n",
    "print(\"magic_ilong  =\", magic_ilong)\n",
    "print(\"magic_int =\", magic_int)"
   ]
  },
  {
   "cell_type": "markdown",
   "metadata": {
    "id": "FojPJaoKUTud"
   },
   "source": [
    "\n",
    "\n",
    "---\n",
    "\n"
   ]
  },
  {
   "cell_type": "markdown",
   "metadata": {
    "id": "2EAlyyuQWUAF"
   },
   "source": [
    "## O problema de Valor Inicial"
   ]
  },
  {
   "cell_type": "markdown",
   "metadata": {
    "id": "uHkn41hlUS1m"
   },
   "source": [
    "Nosso problema em questão é o de achar uma função $u \\in \\mathcal{C}^1([t_0, T])$, que resolva a equação\n",
    "$$\n",
    "u'(t) = f(t,u(t)),\n",
    "$$\n",
    "para uma dada função $f(t,u)$, suficientemente suave, considerando conhecido o valor inicial de $u$,\n",
    "$$\n",
    "u(t_0)=u_0.\n",
    "$$\n",
    "\n",
    "Este problema é conhecido como problema de valor inicial, ou problema de Cauchy."
   ]
  },
  {
   "cell_type": "markdown",
   "metadata": {
    "id": "ID1fwChBW1vq"
   },
   "source": [
    "Observações:\n",
    "*   A função $u$ pode ser uma função com imagem em $\\mathbb{R}$ ou em $\\mathbb{R}^n$, isto é, $u$ pode ser uma função vetorial\n",
    "*   Se $u$ é vetorial ($u:[t_0, T] → \\mathbb{R}^n$), então $f$ também deve ser, ($f:[t_0, T]\\times \\mathbb{R}^n → \\mathbb{R}^n$), assim como $u_0\\in \\mathbb{R}^n$.\n",
    "*   Nesses casos vetoriais, temos um sistema de equações diferenciais."
   ]
  },
  {
   "cell_type": "markdown",
   "metadata": {
    "id": "3iaHtoi9Xxq_"
   },
   "source": [
    "\n",
    "\n",
    "---\n",
    "\n"
   ]
  },
  {
   "cell_type": "markdown",
   "metadata": {
    "id": "-E4pfy1uXyiu"
   },
   "source": [
    "## Discretização"
   ]
  },
  {
   "cell_type": "markdown",
   "metadata": {
    "id": "7bPjXOA1X18X"
   },
   "source": [
    "Vamos discretizar o tempo dividindo o intervalo de tempo em $n$ subintervalos uniformemente espaçados, obtendo\n",
    " $$t_k=\\frac{k}{n}(T-t_0)+t_0, \\quad k=0, 1, ..., n.$$\n",
    "\n",
    " Chamaremos o passo de tempo de $h$,\n",
    " $$\n",
    "h= \\frac{T-t_0}{n}.\n",
    " $$"
   ]
  },
  {
   "cell_type": "markdown",
   "metadata": {
    "id": "2v33zsdkYme4"
   },
   "source": [
    "Definimos $u_k$ como sendo uma aproximação da função desejada no tempo $t_k$, isto é,\n",
    "\n",
    "$$\n",
    "u_k \\approx u(t_k)\n",
    "$$\n",
    "\n",
    "Nosso objetivo é obter boas aproximações para $u(t_k)$."
   ]
  },
  {
   "cell_type": "markdown",
   "metadata": {
    "id": "Qqsg3xV0aHZ2"
   },
   "source": [
    "Da série de Taylor, sabemos que\n",
    "$$\n",
    "u(t_{k+1})=u(t_k)+hu'(t_k)+O(h^2).\n",
    "$$\n",
    "Usando a definição do problema de Cauchy, temos que\n",
    "$$\n",
    "u(t_{k+1})=u(t_k)+hf(t_k, u(t_k))+O(h^2).\n",
    "$$\n",
    "\n",
    "Isso é a base para a construção do método de Euler para resolução do problema de valor inicial. O método de Euler é então dado por\n",
    "$$\n",
    "u_{k+1}=u_k+hf(t_k, u_k),\n",
    "$$\n",
    "que está bem definido se $u_0$ for dado.\n"
   ]
  },
  {
   "cell_type": "markdown",
   "metadata": {
    "id": "VmCObJ8lbfcy"
   },
   "source": [
    "### Primeiro Exemplo"
   ]
  },
  {
   "cell_type": "markdown",
   "metadata": {
    "id": "zlog19BUbhuz"
   },
   "source": [
    "Considere o problema de valor inicial dado por\n",
    "\n",
    "$$\n",
    "\\begin{cases}\n",
    "u'(t)=\\lambda u(t), \\quad  t \\in [0,1]\\\\\n",
    "u(0) = 1\n",
    "\\end{cases}\n",
    "$$\n",
    "\n",
    "Este problema tem solução analítica dada por $u(t)=e^{\\lambda t}$."
   ]
  },
  {
   "cell_type": "code",
   "execution_count": null,
   "metadata": {
    "id": "xITWMSCnWMFV"
   },
   "outputs": [],
   "source": [
    "# Definição do problema\n",
    "t0 = 0\n",
    "T = 1\n",
    "u0 = 1.0\n",
    "lam = 1\n",
    "\n",
    "\n",
    "def f(t, u):\n",
    "    return lam * u\n",
    "\n",
    "\n",
    "# Solução teórica\n",
    "def u_aproximado(t):\n",
    "    return np.exp(lam * t)"
   ]
  },
  {
   "cell_type": "markdown",
   "metadata": {
    "id": "bn3T8SEGds3x"
   },
   "source": [
    "Campo vetorial e soluções \"tangentes\":"
   ]
  },
  {
   "cell_type": "code",
   "execution_count": null,
   "metadata": {
    "id": "9W-O_erzd2aB"
   },
   "outputs": [],
   "source": [
    "n = 20\n",
    "\n",
    "# Grade de plotagem\n",
    "t_tmp = np.linspace(t0, T, n + 1)\n",
    "u_tmp = np.arange(0, 3, 0.15)\n",
    "t_grid, u_grid = np.meshgrid(t_tmp, u_tmp)\n",
    "\n",
    "# du/dt=f(t,u)\n",
    "# Gradient (dt/dt, du/dt) = (1, f(t,u))\n",
    "DT = np.ones_like(t_grid)  # 1\n",
    "DU = u_grid  # lambda u\n",
    "\n",
    "# Curva de solução\n",
    "u0 = 1\n",
    "u_t = np.exp(t_tmp)\n",
    "\n",
    "# Vetores do campo\n",
    "fig, ax = plt.subplots()\n",
    "q = ax.quiver(t_grid, u_grid, DT, DU, angles=\"xy\", label=\"f(t,u)\")\n",
    "ax.plot(t_tmp, u_t, label=\"u(t)=exp(t)\")\n",
    "ax.plot(0.0, u0, \"ro\", label=\"Cond Inicial\")\n",
    "ax.set_xlabel(\"Tempo\")\n",
    "ax.set_ylabel(\"u\")\n",
    "plt.legend()\n",
    "plt.show()"
   ]
  },
  {
   "cell_type": "markdown",
   "metadata": {
    "id": "ULUJTElYEveY"
   },
   "source": [
    "Na figura acima, temos o sistema de coordenadas dados por $(t,u)$, e estamos plotando a curva $(t,u(t))$. O gradiente desta curva é campo de vetores, dado por\n",
    "$$\n",
    "\\frac{d}{dt}(t, u(t)) = (1, u'(t)) = (1, f(t,u)).\n",
    "$$\n",
    "Portanto, os vetores, $(1, f(t,u))$, para cada $(t,u)$, representados em preto na figura, estarão sempre tangentes a curva.\n",
    "\n",
    "Em outro ponto de vista, queremos achar a curva $(t,u(t))$, começando no ponto $(t_0, u_0)$, que seja tangente a esse campo de vetores.\n"
   ]
  },
  {
   "cell_type": "markdown",
   "metadata": {
    "id": "ACDCUtAbH46h"
   },
   "source": [
    "\n",
    "\n",
    "---\n",
    "\n"
   ]
  },
  {
   "cell_type": "markdown",
   "metadata": {
    "id": "iSv-Ey0xdvKZ"
   },
   "source": [
    "Implementação de um primeiro método numérico: Euler"
   ]
  },
  {
   "cell_type": "code",
   "execution_count": null,
   "metadata": {
    "id": "cL1T2J54dEUe"
   },
   "outputs": [],
   "source": [
    "# O método de Euler\n",
    "def euler(u0, t0, T, f, n):\n",
    "    h = (T - t0) / n\n",
    "    u = np.empty(n + 1)\n",
    "    u[0] = u0\n",
    "    for k in range(0, n):\n",
    "        tk = t0 + k * h\n",
    "        u[k + 1] = u[k] + h * f(tk, u[k])\n",
    "    return u"
   ]
  },
  {
   "cell_type": "code",
   "execution_count": null,
   "metadata": {
    "id": "rpGOb6DPaZGi"
   },
   "outputs": [],
   "source": [
    "n = 10\n",
    "\n",
    "t_aproximado = np.linspace(t0, T, n + 1)\n",
    "u_aprox = euler(u0, t0, T, f, n)\n",
    "u_exata = u_aproximado(t_aproximado)\n",
    "\n",
    "erro_final = np.abs(u_aprox[-1] - u_exata[-1])\n",
    "\n",
    "tab = PrettyTable([\"n\", \"u Euler\", \"u Exata\", \"Erro Max\"])\n",
    "tab.add_row([n, u_aprox[-1], u_exata[-1], erro_final])\n",
    "print(tab)"
   ]
  },
  {
   "cell_type": "code",
   "execution_count": null,
   "metadata": {
    "id": "Z1gRnXOrbwVG"
   },
   "outputs": [],
   "source": [
    "figure, axs = plt.subplots(figsize=(10, 8))\n",
    "plt.plot(t_aproximado, u_aprox, \".\", label=\"Euler\", linewidth=1)\n",
    "plt.plot(t_aproximado, u_exata, label=\"Exata\", linewidth=1)\n",
    "plt.xlabel(\"t\")\n",
    "plt.ylabel(\"u\")\n",
    "plt.grid()\n",
    "plt.legend()\n",
    "plt.show()"
   ]
  },
  {
   "cell_type": "markdown",
   "metadata": {
    "id": "K8BoSMXmgXH-"
   },
   "source": [
    "\n",
    "\n",
    "---\n",
    "\n"
   ]
  },
  {
   "cell_type": "markdown",
   "metadata": {
    "id": "3WDhdztBeMWV"
   },
   "source": [
    "Questão importante:\n",
    "\n",
    ">  O que acontece com o erro quando aumentamos o número de pontos no tempo? (diminuímos $h$).\n"
   ]
  },
  {
   "cell_type": "code",
   "execution_count": null,
   "metadata": {
    "id": "LJ0BF68jcCV2"
   },
   "outputs": [],
   "source": [
    "tab = PrettyTable([\"n\", \"u Euler\", \"u Exata\", \"Erro Max\"])\n",
    "n_list = [1, 2, 4, 8, 16]\n",
    "\n",
    "figure, axs = plt.subplots(figsize=(10, 8))\n",
    "plt.plot(t_aproximado, u_exata, label=\"Exata\", linewidth=1)\n",
    "plt.xlabel(\"t\")\n",
    "plt.ylabel(\"u\")\n",
    "\n",
    "for n in n_list:\n",
    "    t_aproximado = np.linspace(t0, T, n + 1)\n",
    "    u_aprox = euler(u0, t0, T, f, n)\n",
    "    u_exata = u_aproximado(t_aproximado)\n",
    "\n",
    "    erro_final = np.abs(u_aprox[-1] - u_exata[-1])\n",
    "    tab.add_row([n, u_aprox[-1], u_exata[-1], erro_final])\n",
    "\n",
    "    plt.plot(\n",
    "        t_aproximado, u_aprox, \"-o\", label=\"Euler-\" + str(n), linewidth=1, markersize=2\n",
    "    )\n",
    "\n",
    "plt.grid()\n",
    "plt.legend()\n",
    "plt.show()\n",
    "\n",
    "print(tab)"
   ]
  },
  {
   "cell_type": "code",
   "execution_count": null,
   "metadata": {
    "id": "XG5tqkZcfCEL"
   },
   "outputs": [],
   "source": [
    "tab = PrettyTable([\"n\", \"u Euler\", \"u Exata\", \"Erro Max\", \"Razão\"])\n",
    "\n",
    "erro_final = []\n",
    "for n in range(10):\n",
    "    n = 2**n\n",
    "    t_aproximado = np.linspace(t0, T, n + 1)\n",
    "    u_aprox = euler(u0, t0, T, f, n)\n",
    "    u_exata = u_aproximado(t_aproximado)\n",
    "\n",
    "    erro_final.append(np.abs(u_aprox[-1] - u_exata[-1]))\n",
    "    if n > 1:\n",
    "        tab.add_row(\n",
    "            [\n",
    "                n,\n",
    "                u_aprox[-1],\n",
    "                u_exata[-1],\n",
    "                erro_final[-1],\n",
    "                erro_final[-2] / erro_final[-1],\n",
    "            ]\n",
    "        )\n",
    "\n",
    "\n",
    "print(tab)"
   ]
  },
  {
   "cell_type": "markdown",
   "metadata": {
    "id": "Md77056xADDB"
   },
   "source": [
    "Note que o erro cai pela metade (aproximadamente) quando dobramos o número de pontos (reduzimos o $h$ pela metade). Logo, dizemos que o método é de primeira ordem $O(h^1)$.\n",
    "\n",
    "Isso será, ou foi, demonstrado em sala nas aulas teóricas."
   ]
  },
  {
   "cell_type": "markdown",
   "metadata": {
    "id": "NU3tdPpWgmY9"
   },
   "source": [
    "\n",
    "\n",
    "---\n",
    "\n"
   ]
  },
  {
   "cell_type": "markdown",
   "metadata": {
    "id": "cYc2WlTIgnBW"
   },
   "source": [
    "###❗Exercício 1❗\n",
    "\n",
    "Considere o problema de valor inicial\n",
    "\n",
    "$$\n",
    "\\begin{cases}\n",
    "u'(t)=-2\\,tu^2/a, \\quad  t \\ge 0\\\\\n",
    "u(0) = 1\n",
    "\\end{cases}\n",
    "$$\n",
    "onde $a$ é uma constante positiva.\n",
    "Este problema tem solução analítica dada por\n",
    "$$\n",
    "  u(t) = \\frac{1}{1 + t^2/a}.\n",
    "$$\n",
    "\n",
    "Vamos analisar o comportamento do erro para o Método de Euler com este exemplo. Posteriormente, iremos comparar os resultados com outro método.\n",
    "\n",
    "Atividade:\n",
    "1.   Defina $a =$ magic_int, ou seja, $a$ será o valor do seu último dígito não nulo do número usp multiplicado por 10.\n",
    "2.   Resolva o problema no intervalo $[0,\\sqrt{a}]$ usando o método de Euler com $2^k$ passos, $0 \\le k \\le 9$ (ou seja, $n=2^k$, $h=\\sqrt{a}/2^k$, $0 \\le k \\le 9$.\n",
    "3.   Apresente um gráfico com a solução exata e as aproximações para $n = 4, 8$ e $16$.\n",
    "4.   Construa uma tabela apresentando, para os $10$ valores de $n$ usados, os valores da solução exata e das aproximações em $T=\\sqrt{a}$, o valor absoluto dos erros em $T=\\sqrt{a}$ e a razão entre estes erros para valores de $n$ consecutivos. O erro se comporta de acordo com o esperado?\n"
   ]
  },
  {
   "cell_type": "code",
   "execution_count": null,
   "metadata": {},
   "outputs": [],
   "source": [
    "# Códigos\n",
    "\n",
    "# Definição do problema\n",
    "a = magic_int\n",
    "t0 = 0\n",
    "T = np.sqrt(a)\n",
    "u0 = 1.0\n",
    "\n",
    "\n",
    "def f(t, u):\n",
    "    return -2 * t * u**2 / a\n",
    "\n",
    "\n",
    "# Solução teórica\n",
    "def u(t):\n",
    "    return 1 / (1 + t**2 / a)\n",
    "\n",
    "\n",
    "# Valores de n\n",
    "n_list = [2**k for k in range(10)]\n",
    "\n",
    "\n",
    "# O método de Euler\n",
    "def euler(f, t0, T, u0, n):\n",
    "    h = (T - t0) / n\n",
    "    t = np.linspace(t0, T, n + 1)\n",
    "    u = np.zeros(n + 1)\n",
    "    u[0] = u0\n",
    "    for k in range(n):\n",
    "        u[k + 1] = u[k] + h * f(t[k], u[k])\n",
    "    return t, u\n",
    "\n",
    "\n",
    "# Resolvendo para diferentes valores de n\n",
    "resultados = {}\n",
    "for n in n_list:\n",
    "    t_aproximado, u_aproximado = euler(f, t0, T, u0, n)\n",
    "    resultados[n] = (t_aproximado, u_aproximado)\n",
    "\n",
    "# Gráfico\n",
    "t_exato = np.linspace(t0, T, 1000)\n",
    "u_exato = u(t_exato)\n",
    "\n",
    "plt.figure(figsize=(10, 8))\n",
    "plt.plot(t_exato, u_exato, label=\"Exata\", linewidth=1)\n",
    "plt.xlabel(\"t\")\n",
    "plt.ylabel(\"u\")\n",
    "\n",
    "for n in [4, 8, 16]:\n",
    "    t_aproximado, u_aproximado = resultados[n]\n",
    "    plt.plot(\n",
    "        t_aproximado,\n",
    "        u_aproximado,\n",
    "        \"o-\",\n",
    "        label=\"Euler-\" + str(n),\n",
    "        linewidth=1,\n",
    "        markersize=2,\n",
    "    )\n",
    "\n",
    "plt.legend()\n",
    "plt.show()\n",
    "\n",
    "tab = PrettyTable([\"n\", \"u Euler\", \"u Exata\", \"Erro Max\", \"Razão\"])\n",
    "\n",
    "# Tabela de erros\n",
    "erro_final = []\n",
    "t_exato = u(T)\n",
    "\n",
    "for i in range(len(n_list)):\n",
    "    n = n_list[i]\n",
    "    _, u_aproximado = resultados[n]\n",
    "    t_aproximado = u_aproximado[-1]\n",
    "    erro_valor_final = abs(t_exato - t_aproximado)\n",
    "    if i == 0:\n",
    "        erro_razao = \"-\"\n",
    "    else:\n",
    "        erro_razao = erro_final[-1][\"Erro Max\"] / erro_valor_final\n",
    "    erro_final.append(\n",
    "        {\n",
    "            \"n\": n,\n",
    "            \"u Euler\": t_aproximado,\n",
    "            \"u Exata\": t_exato,\n",
    "            \"Erro Max\": erro_valor_final,\n",
    "            \"Razão\": erro_razao,\n",
    "        }\n",
    "    )\n",
    "    tab.add_row(\n",
    "        [\n",
    "            n,\n",
    "            t_aproximado,\n",
    "            t_exato,\n",
    "            erro_valor_final,\n",
    "            erro_razao,\n",
    "        ]\n",
    "    )\n",
    "\n",
    "print(tab)"
   ]
  },
  {
   "cell_type": "markdown",
   "metadata": {
    "id": "ux0gBfToIXto"
   },
   "source": [
    "Respostas:"
   ]
  },
  {
   "cell_type": "markdown",
   "metadata": {
    "id": "FJ1w03B5pphe"
   },
   "source": [
    "Sim, o erro se comporta conforme o esperado, já que o erro cai pela metade (aproximadamente) quando dobramos o número de pontos n. Logo, dizemos que o método é de primeira ordem $O(h^1)$.\n",
    "\n",
    "---"
   ]
  },
  {
   "cell_type": "markdown",
   "metadata": {
    "id": "s024RyEHIlZS"
   },
   "source": [
    "\n",
    "\n",
    "---\n",
    "\n"
   ]
  },
  {
   "cell_type": "markdown",
   "metadata": {
    "id": "cJIFHf5fpywF"
   },
   "source": [
    "### Método de 2a ordem"
   ]
  },
  {
   "cell_type": "markdown",
   "metadata": {
    "id": "cPsKIXLZp2CW"
   },
   "source": [
    "Como vimos anteriormente, o método de Euler é um método de 1a ordem $O(h)$, isto é, quando reduzimos $h$ pela metade, o erro cai aproximadamente pela metade.\n",
    "\n",
    "Podemos obter um método de segunda ordem, isto é, com erro da ordem de $h^2$, indicado por $O(h^2)$, usando o método explicito do trapézio, também conhecido como Euler Aprimorado:\n",
    "\n",
    "$$\n",
    "u_{k+1}=u_k+\\frac{h}{2}\\left( f(t_k, u_k)+f(t_k+h, u_k+hf(t_k, u_k))\\right),\n",
    "$$\n",
    "que pode ser implementado em 2 estágios:\n",
    "$$\n",
    "\\kappa_1 = f(t_k, u_k) \\\\\n",
    "\\kappa_2 = f(t_k+h, u_k+h\\kappa_1)\\\\\n",
    "u_{k+1} = u_k+\\frac{h}{2}\\left(\\kappa_1+\\kappa_2 \\right)\n",
    "$$"
   ]
  },
  {
   "cell_type": "markdown",
   "metadata": {
    "id": "ZHDfEYegp-Ct"
   },
   "source": [
    "### ❗Exercício 2❗\n",
    "\n"
   ]
  },
  {
   "cell_type": "markdown",
   "metadata": {
    "id": "hhOvDudKEy8i"
   },
   "source": [
    "\n",
    "1.  Implemente uma função de Python para o método de Euler Aprimorado, de forma similar ao feito para Euler, para um problema de Cauchy geral.\n",
    "\n",
    "2.  Teste sua implementação para o mesmo problema do Exercíco 2:\n",
    "$$\n",
    "\\begin{cases}\n",
    "u'(t)=-2\\,tu^2/a, \\quad  t \\ge 0\\\\\n",
    "u(0) = 1\n",
    "\\end{cases},\n",
    "$$\n",
    "cuja solução exata é\n",
    "$$\n",
    "  u(t) = \\frac{1}{1+t^2/a},\n",
    "$$\n",
    "onde $a =$ magic_int (valor do seu último dígito não nulo do número usp multiplicado por 10). Use $t_0=0$ e $T=\\sqrt{a}$. Faça os testes com os mesmos valores de $n$ usados no Exercício 1: $n=2^k$, $0 \\le k \\le 9$.\n",
    "3. Apresente um gráfico com a solução exata e as aproximações para $n = 4, 8$ e $16$.\n",
    "\n",
    "4. Construa uma tabela apresentando, para os $10$ valores de $n$ usados, os valores da solução exata e das aproximações em $T=\\sqrt{a}$, o valor absoluto dos erros em $T=\\sqrt{a}$ e a razão entre estes erros para valores de $n$ consecutivos.\n",
    "\n",
    "**Responda:**\n",
    "\n",
    "1. O erro se comporta como esperado?\n",
    "2. Um passo do Método de Euler Aprimorado usa duas avaliações de $f$, enquanto que um passo do Método de Euler usa apenas uma avaliação de $f$. Compare o número total de avaliações de $f$ em cada método para erros com a mesma ordem de grandeza (olhe a sua tabela). Compensa usar um método de ordem maior, porém mais caro em cada passo?\n"
   ]
  },
  {
   "cell_type": "code",
   "execution_count": null,
   "metadata": {},
   "outputs": [],
   "source": [
    "# Códigos\n",
    "\n",
    "# Definição do problema\n",
    "a = magic_int\n",
    "t0 = 0\n",
    "T = np.sqrt(a)\n",
    "u0 = 1.0\n",
    "\n",
    "\n",
    "def f(t, u):\n",
    "    return -2 * t * u**2 / a\n",
    "\n",
    "\n",
    "# Solução teórica\n",
    "def u_exact(t):\n",
    "    return 1 / (1 + t**2 / a)\n",
    "\n",
    "\n",
    "# Valores de n\n",
    "n_list = [2**k for k in range(10)]\n",
    "\n",
    "\n",
    "def euler_aprimorado(f, t0, T, u0, n):\n",
    "    h = (T - t0) / n\n",
    "    t = np.linspace(t0, T, n + 1)\n",
    "    u = np.zeros(n + 1)\n",
    "    u[0] = u0\n",
    "    for k in range(n):\n",
    "        k1 = f(t[k], u[k])\n",
    "        k2 = f(t[k] + h, u[k] + h * k1)\n",
    "        u[k + 1] = u[k] + h * (k1 + k2) / 2\n",
    "    return t, u\n",
    "\n",
    "\n",
    "n_values = [2**k for k in range(10)]\n",
    "\n",
    "results = {}\n",
    "for n in n_values:\n",
    "    t, u = euler_aprimorado(f, t0, T, u0, n)\n",
    "    results[n] = (t, u)\n",
    "\n",
    "t_exato = np.linspace(t0, T, 1000)\n",
    "u_exato_vals = u_exact(t_exato)\n",
    "\n",
    "plt.figure(figsize=(10, 8))\n",
    "plt.plot(t_exato, u_exato_vals, label=\"Exata\", linewidth=1)\n",
    "\n",
    "for n in [4, 8, 16]:\n",
    "    t, u = results[n]\n",
    "    plt.plot(t, u, \"o-\", label=\"Euler Aprimorado-\" + str(n), linewidth=1, markersize=2)\n",
    "\n",
    "plt.xlabel(\"t\")\n",
    "plt.ylabel(\"u(t)\")\n",
    "plt.legend()\n",
    "plt.show()\n",
    "\n",
    "tab = PrettyTable([\"n\", \"u Euler\", \"u Exata\", \"Erro Max\", \"Razão\"])\n",
    "\n",
    "erro_final = []\n",
    "for i in range(len(n_values)):\n",
    "    n = n_values[i]\n",
    "    _, u_aproximado = results[n]\n",
    "    t_aproximado = u_aproximado[-1]\n",
    "    t_exato = u_exact(T)\n",
    "    erro_valor_final = abs(t_exato - t_aproximado)\n",
    "    if i == 0:\n",
    "        erro_razao = \"-\"\n",
    "    else:\n",
    "        erro_razao = erro_final[-1][\"Erro Max\"] / erro_valor_final\n",
    "    erro_final.append(\n",
    "        {\n",
    "            \"n\": n,\n",
    "            \"u Euler\": t_aproximado,\n",
    "            \"u Exata\": t_exato,\n",
    "            \"Erro Max\": erro_valor_final,\n",
    "            \"Razão\": erro_razao,\n",
    "        }\n",
    "    )\n",
    "    tab.add_row(\n",
    "        [\n",
    "            n,\n",
    "            t_aproximado,\n",
    "            t_exato,\n",
    "            erro_valor_final,\n",
    "            erro_razao,\n",
    "        ]\n",
    "    )\n",
    "\n",
    "print(tab)"
   ]
  },
  {
   "cell_type": "markdown",
   "metadata": {
    "id": "WOQmmXwncN6o"
   },
   "source": [
    "Respostas:\n",
    "\n",
    "1. Sim, o erro se comporta como o esperado, pois diminui proporcionalmente ao quadrado da redução do passo _h_. Vemos que, a partir de _n_ = 8, razão do erro se aproxima de 4 quando _n_ dobra, indicando um método de segunda ordem $O^2$.\n",
    "\n",
    "\n",
    "2. Compensa utilizar o método de Euler aprimorado para se obter erros de ordem de grandeza <= $10^{-4}$, já que no método de Euler utilizamos 64 passos (64 avaliações de f) para obter essa precisão, e no método de Euler aprimorado utilizamos 16 passos (16 * 2 = 32 avaliações de f). "
   ]
  },
  {
   "cell_type": "markdown",
   "metadata": {
    "id": "aPfhgpahJlS6"
   },
   "source": [
    "\n",
    "\n",
    "---\n",
    "\n"
   ]
  },
  {
   "cell_type": "markdown",
   "metadata": {
    "id": "L05cE0TELHcK"
   },
   "source": [
    "## Pêndulo simples"
   ]
  },
  {
   "cell_type": "markdown",
   "metadata": {
    "id": "0hyrVheiLKxT"
   },
   "source": [
    "A maior parte das aplicações interessantes baseadas em equações diferenciais são modeladas com equações de ordens mais altas (derivadas segundas, terceiras, ...) ou vem de sistemas de equações de equações diferenciais. Vejamos um exemplo, o do pêndulo simples.\n",
    "\n",
    "![2e9007fe-064e-4f32-a1a6-d3dac39aa6e5.png](data:image/png;base64,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)"
   ]
  },
  {
   "cell_type": "markdown",
   "metadata": {
    "id": "CJN12wh_76yM"
   },
   "source": [
    "Um pêndulo simples consiste em um fio de comprimento $L$ e massa desprezível com uma extremidade fixada e outra amarrada em uma massa pontual $m$. O ângulo $\\theta(t)$ que a massa faz com o eixo vertical sob ação da aceleração da gravidade $g$, sem atrito, satisfaz a seguinte equação diferencial ordinária\n",
    "\n",
    "$$\n",
    "\\theta''(t) = -\\frac{g}{L}\\sin(\\theta(t)).\n",
    "$$\n",
    "\n",
    "Gostaríamos de resolver este problema numericamente. Para isso, consideramos uma variável $\\omega = \\theta'$, a velocidade angular, e obtemos o seguinte sistema de equações de primeira ordem\n",
    "\n",
    "\\begin{align}\n",
    "\\theta'(t) &= \\omega(t)\\\\\n",
    "\\omega'(t) &= -\\frac{g}{L}\\sin(\\theta(t)).\n",
    "\\end{align}\n",
    "\n"
   ]
  },
  {
   "cell_type": "markdown",
   "metadata": {
    "id": "sEc4_9GgEW5t"
   },
   "source": [
    "Para usar os métodos numéricos precisamos agora definir o problema de forma vetorial,\n",
    "\n",
    "$$\n",
    "u'=f(t,u),\n",
    "$$\n",
    "onde\n",
    "$$\n",
    "u = [\\theta, \\omega],\n",
    "$$\n",
    "e\n",
    "$$\n",
    "f(t,u) = [ f_1(t,u), f_2(t,u) ] =  [\\omega, -\\frac{g}{L}\\sin(\\theta)].\n",
    "$$"
   ]
  },
  {
   "cell_type": "code",
   "execution_count": null,
   "metadata": {
    "id": "yImIc_YAAfoo"
   },
   "outputs": [],
   "source": [
    "# Definição do problema\n",
    "t0 = 0.0  # Tempo inicial\n",
    "T = 8.0  # Tempo final\n",
    "u0 = np.array(\n",
    "    [np.pi / 6, 0.0]\n",
    ")  # posição angular inicial (theta0) e velocidade angular inicial (omega0)\n",
    "g = 9.81  # Aceleração da gravidade (Jupiter = 24.79 , Terra = 9.81)\n",
    "L = 1.2  # comprimento do fio (metros)\n",
    "n = 1000  # Número de passos que daremos no tempo\n",
    "\n",
    "\n",
    "def f(\n",
    "    t, u\n",
    "):  # note que essa função agora recebe um vetor [theta, w] e devolve um vetor [f1(theta, w), f2(theta, w)]\n",
    "    return np.array([u[1], -(g / L) * np.sin(u[0])])"
   ]
  },
  {
   "cell_type": "markdown",
   "metadata": {
    "id": "6-xhRsWqF_HZ"
   },
   "source": [
    "Podemos (devemos!) ajustar o nosso código para ele ser vetorial. Mas nota que ele só precisa saber quem é $u$ e $f$, e vale para outros sistemas de equações diferenciais ordiárias se mudarmos $u$ e $f$.\n",
    "\n",
    "Abaixo mostramos um exemplo de um método conhecido como Runge-Kutta 44,\n",
    "\n",
    "\n",
    "\\begin{align}\n",
    "κ_1 &= f(t_k,u_k), \\\\\n",
    "κ_2 &= f\\left(t_k + \\frac{h}{2} ,u_k + \\frac{h}{2}\\kappa_1 \\right), \\\\\n",
    "κ_3 &= f\\left(t_k + \\frac{h}{2} ,u_k + \\frac{h}{2}\\kappa_2 \\right), \\\\\n",
    "κ_4 &= f\\left(t_k + h ,u_k + h\\kappa_3 \\right), \\\\\n",
    "\\end{align}\n",
    "\n",
    "$$\n",
    "u_{k+1}=u_{k}+\\frac{h}{6}(\\kappa_1 + 2\\kappa_2 + 2\\kappa_3+ \\kappa_4).\n",
    "$$"
   ]
  },
  {
   "cell_type": "code",
   "execution_count": null,
   "metadata": {
    "id": "kG90Bes8_5-P"
   },
   "outputs": [],
   "source": [
    "## O método de Runge-Kutta 4 4 vetorial\n",
    "def rk44_vet(u0, t0, T, f, n):\n",
    "    h = (T - t0) / n\n",
    "    dim = u0.size\n",
    "    u = np.empty((n + 1, dim))\n",
    "    u[0, :] = u0\n",
    "    for k in range(0, n):\n",
    "        tk = t0 + k * h\n",
    "        kappa1 = f(tk, u[k, :])\n",
    "        kappa2 = f(tk + h / 2, u[k, :] + h * kappa1 / 2)\n",
    "        kappa3 = f(tk + h / 2, u[k, :] + h * kappa2 / 2)\n",
    "        kappa4 = f(tk + h, u[k, :] + h * kappa3)\n",
    "        u[k + 1, :] = u[k, :] + h * (kappa1 + 2 * kappa2 + 2 * kappa3 + kappa4) / 6.0\n",
    "        # print(k, u[k,:])\n",
    "        if np.max(np.max(u[k, :])) > 10e5:\n",
    "            print(\"Método instável...desisto!\")\n",
    "            return u\n",
    "    return u"
   ]
  },
  {
   "cell_type": "markdown",
   "metadata": {
    "id": "Y-5V1rfEH8yQ"
   },
   "source": [
    "Vejamos a solução do prolema ao longo do tempo (nas duas variáveis, $\\theta$ e $\\omega=\\theta'$). Note que o ângulo está em radianos."
   ]
  },
  {
   "cell_type": "code",
   "execution_count": null,
   "metadata": {
    "id": "cTo0jHvGBnrf"
   },
   "outputs": [],
   "source": [
    "u_sol = rk44_vet(u0, t0, T, f, n)\n",
    "\n",
    "t_aproximado = np.linspace(t0, T, n + 1)\n",
    "figure, axs = plt.subplots(figsize=(10, 8))\n",
    "plt.xlabel(\"t\")\n",
    "plt.ylabel(\"u\")\n",
    "plt.plot(\n",
    "    t_aproximado, u_sol[:, 0], \"-o\", label=r\"$\\theta(t)$\", linewidth=1, markersize=2\n",
    ")\n",
    "plt.plot(\n",
    "    t_aproximado, u_sol[:, 1], \"-o\", label=r\"$\\theta'(t)$\", linewidth=1, markersize=2\n",
    ")\n",
    "plt.legend()\n",
    "plt.grid(alpha=0.2)\n",
    "plt.title(\"Solução do problema\")"
   ]
  },
  {
   "cell_type": "markdown",
   "metadata": {
    "id": "-gxwD37_IGHc"
   },
   "source": [
    "Podemos fazer o gráfico das soluções no plano $\\theta \\times \\omega$, esboçando assim uma trajetória no retrato de fases do sistema de EDOs. Notamos que parece que a trajetória tem uma periodicidade, com o sistema retornando ao estado inicial passado um certo tempo."
   ]
  },
  {
   "cell_type": "code",
   "execution_count": null,
   "metadata": {
    "id": "201OJJftFAZ7"
   },
   "outputs": [],
   "source": [
    "figure, axs = plt.subplots(figsize=(10, 8))\n",
    "plt.xlabel(r\"$\\theta(t)$\")\n",
    "plt.ylabel(r\"$\\theta'(t)$\")\n",
    "plt.plot(u_sol[:, 0], u_sol[:, 1], \"-o\", linewidth=1, markersize=0)\n",
    "plt.grid(alpha=0.2)\n",
    "plt.title(r\"Curva $\\theta(t) \\times \\theta'(t)$\")"
   ]
  },
  {
   "cell_type": "markdown",
   "metadata": {
    "id": "wENQrXW4Jf0Z"
   },
   "source": [
    "\n",
    "\n",
    "---\n",
    "\n"
   ]
  },
  {
   "cell_type": "markdown",
   "metadata": {
    "id": "wfT8HJaWi8pn"
   },
   "source": [
    "## O método de Runge-Kutta-Fehlberg\n",
    "\n",
    "Os métodos númericos para resolução de equações diferenciais ordinárias fazem uso de um espaçamento $h$ no tempo a cada passo. A precisão atingida pelo método depende deste valor de $h$. Neste sentido, descrevemos uma técnica para melhorar a precisão de forma eficiente.\n",
    "\n",
    "Considere dois métodos numéricos, um de ordem $p$, e outro de ordem $p+1$, que a partir do valor $x_i$ geram a aproximação para $x(t_{i+1})$ respectivamente como:\n",
    "\n",
    "\\begin{align}\n",
    "x_{i+1} &= x_i +  h\\,\\Phi(t_i,x_i,h) \\quad \\text{e }\\\\\n",
    "\\tilde{x}_{i+1} &= x_i +  h\\,\\tilde{\\Phi}(t_i,x_i,h).\n",
    "\\end{align}\n",
    "\n",
    "Assumindo que a aproximação $x_i$ no instante $t_i$ seja praticamente igual à solução $x(t_i)$, o erro de truncamento para o método de ordem $p$ pode ser escrito como\n",
    "\n",
    "$$\n",
    "\\tau_{i+1}(h) = \\frac{\\tilde{x}_{i+1} - x_{i+1}}{h}.\n",
    "$$\n",
    "\n",
    "Por meio desta expressão, pode-se estimar o erro de truncamento e verificar se este se encontra dentro da ordem de precisão desejada e se é necessário aumentar ou reduzir o espaçamento $h$. Usando que\n",
    "\n",
    "$$\n",
    "\\tau_{i+1}(h) \\approx Ch^p\n",
    "$$\n",
    "\n",
    "onde $C \\in \\mathbb{R}$ e se utilizarmos um novo espaçamento $\\tilde{h} = \\alpha h$, teríamos\n",
    "\n",
    "$$\n",
    "\\tau_{i+1}(h) ≈ C(\\alpha h)^p ≈ \\alpha^p \\tau_{i+1}(h)  \\approx \\alpha^p \\frac{\\tilde{x}_{i+1} - x_{i+1}}{h}.\n",
    "$$\n",
    "\n",
    "Como desejamos que a norma do erro de truncamento seja menor que uma tolerância $ɛ$, devemos ter\n",
    "\n",
    "$$\n",
    "\\alpha \\leq \\left( \\frac{ɛh}{c ||\\tilde{x}_{i+1} - x_{i+1}||}\\right)^{1/p},\n",
    "$$\n",
    "onde $c>1$ é um fator de segurança.\n",
    "\n",
    "Assim, descrevemos o método de Runge-Kutta-Fehlberg. A ideia é considerar métodos de quarta e quinta ordem que compartilhem o cálculo dos mesmos estágios. Em função das aproximações encontradas, estima-se o erro local de truncamento $\\tau_{i+1}$ como explicado anteriormente. Caso este valor seja menor de $ɛ$, o valor de $x_{i+1}$ obtido pelo método de quarta ordem é aceito como aproximação no instante $t_{i+1}$ e multiplicamos o passo por $\\alpha$, empregando um fator de segurança, por exemplo, $c=2$.\n",
    "\n",
    "No caso de $\\tau_{i+1}$ ser maior que $ɛ$, o valor de $x_{i+1}$ é rejeitado. Multiplica-se $h$ por $\\alpha$ e refazemos os cálculos de $x_{i+1}$ e $\\tilde{x}_{i+1}$. Uma vez que $x_{i+1}$ tenha sido aceito, procede-se ao cálculo da solução no próximo passo usando o mesmo procedimento. O método termina quando atinge-se o instante final desejado. Para garantir que o instante final $T$ não seja ultrapassado, pode-se limitar o valor de $h$ a cada passo fazendo que este seja no máximo igual a $T - t_i$. Também é aconselhável que o passo seja majorado inferiormente e superiormente para evitar valores pequenos ou grandes demais.\n",
    "\n",
    "Os métodos ultizados requerem $6$ estágios dados por\n",
    "\n",
    "\\begin{align}\n",
    "κ_1 &= hf(t_i,x_i) \\\\\n",
    "κ_2 &= hf\\left(t_i + \\frac{1}{4}h ,x_i + \\frac{1}{4}\\kappa_1 \\right) \\\\\n",
    "κ_3 &= hf\\left(t_i + \\frac{3}{8}h ,x_i + \\frac{3}{32}\\kappa_1 + \\frac{9}{32}\\kappa_2 \\right) \\\\[0.2cm]\n",
    "κ_4 &= hf\\left(t_i + \\frac{12}{13}h ,x_i + \\frac{1932}{2197}\\kappa_1 - \\frac{7200}{2197}\\kappa_2 + \\frac{7296}{2197}\\kappa_3\\right) \\\\[0.2cm]\n",
    "κ_5 &= hf\\left(t_i + h ,x_i + \\frac{439}{216}\\kappa_1 - 8\\kappa_2 + \\frac{3680}{513}\\kappa_3 - \\frac{845}{4104}\\kappa_4\\right) \\\\[0.2cm]\n",
    "κ_6 &= hf\\left(t_i + \\frac{1}{2}h ,x_i - \\frac{8}{27}\\kappa_1 + 2\\kappa_2 - \\frac{3544}{2565}\\kappa_3 + \\frac{1859}{4104}\\kappa_4 - \\frac{11}{40}\\kappa_5\\right).\n",
    "\\end{align}\n",
    "\n",
    "O método de quarta ordem é dado por\n",
    "\n",
    "$$\n",
    "x_{i+1} = x_i + \\frac{25}{216}\\kappa_1 + \\frac{1408}{2565}\\kappa_3 + \\frac{2197}{4104}\\kappa_4 - \\frac{1}{5}\\kappa_5,\n",
    "$$\n",
    "\n",
    "enquanto que o de ordem $5$ é obtido por\n",
    "\n",
    "$$\n",
    "\\tilde{x}_{i+1} = x_i + \\frac{16}{135}\\kappa_1 + \\frac{6656}{12825}\\kappa_3 + \\frac{28561}{56430}\\kappa_4 - \\frac{9}{50}\\kappa_5 + \\frac{2}{55}\\kappa_6.\n",
    "$$"
   ]
  },
  {
   "cell_type": "markdown",
   "metadata": {
    "id": "PIFHxG3EMews"
   },
   "source": [
    "Note que os dois métodos usam os mesmos estágios ($\\kappa s)$, logo o custo computacional desse método não é o mesmo de calcular dois métodos separadamente, pois as contas são aproveitadas nos dois métodos!"
   ]
  },
  {
   "cell_type": "markdown",
   "metadata": {
    "id": "XYCxEuW95X_U"
   },
   "source": [
    "------------------"
   ]
  },
  {
   "cell_type": "markdown",
   "metadata": {
    "id": "t4pMX9dGgQwH"
   },
   "source": [
    "### ❗ Exercício 3  ❗\n",
    "\n",
    "1. Implemente o método de quarta ordem do RKF com o pêndulo simples usando condições iniciais $\\theta_0=\\pi/6$ e $\\omega_0=0$. Use os mesmos parâmetros do problema anterior do pêndulo simples com $n=100$ passos de tempo e calcule o erro cometido com base em uma simulação com método RK44 usado anteriormente, usando n=1000 passos de tempo. Calcule o erro no instante final.\n",
    "2. Implemente o método de 5 ordem do RKF e repita o procedimento do item 1, calculando o erro obtido no instante de tempo final. Compare os erros obtidos do método de 4a e 5a ordens.\n",
    "3. Implemente o método RKF completo, isto é, que calcula simulaneamente o método de 4a e 5a ordem, e controla o passo de tempo com base no valor de $\\alpha$. Neste caso, considere:\n",
    "  - $ϵ = 10^{-4}$\n",
    "  - $ϵ = 10^{-6}$\n",
    "\n",
    "Compute o erro final comparando com o método RK44 com 1000 passos de tempo. Ao final, veja quantos passos de tempo o método RKF teve que executar para chegar nesse erro.\n",
    "\n",
    "4. Experimente colocar o pêndulo no planeta de Júpiter (o valor da aceleração da gravidade vai mudar!). Neste caso, o pêndulo vai oscilar mais rápido ou devagar? Simule o caso usando o método RKF e o RK44. Avalie quantos passos de tempo o RKF dá em Jupiter e compare com a quantidade de passos que o método precisou na simulação na Terra. Qual o motivo da diferença?\n"
   ]
  },
  {
   "cell_type": "code",
   "execution_count": null,
   "metadata": {
    "id": "Xy7dEWRJMaLP"
   },
   "outputs": [],
   "source": [
    "# Implementação: Definição de Funções do Item 1.\n",
    "\n",
    "# Definição do problema\n",
    "t0 = 0.0  # Tempo inicial\n",
    "T = 8.0  # Tempo final\n",
    "u0 = np.array(\n",
    "    [np.pi / 6, 0.0]\n",
    ")  # posição angular inicial (theta0) e velocidade angular inicial (omega0)\n",
    "g = 9.81  # Aceleração da gravidade (Jupiter = 24.79 , Terra = 9.81)\n",
    "L = 1.2  # comprimento do fio (metros)\n",
    "n_rkf4 = 100  # Número de passos que daremos no tempo para RKF4\n",
    "n_rkf5 = 100  # Número de passos que daremos no tempo para RKF5\n",
    "n_rk44 = 1000  # Número de passos que daremos no tempo para RK44\n",
    "\n",
    "\n",
    "def f(\n",
    "    t, u\n",
    "):  # note que essa função agora recebe um vetor [theta, w] e devolve um vetor [f1(theta, w), f2(theta, w)]\n",
    "    theta, omega = u\n",
    "    return np.array([omega, -g / L * np.sin(theta)])\n",
    "\n",
    "\n",
    "def rkf4(f, t0, T, u0, n_rkf):\n",
    "    h = (T - t0) / n_rkf\n",
    "    dim = u0.size\n",
    "    u = np.empty((n_rkf + 1, dim))\n",
    "    u[0, :] = u0\n",
    "    for k in range(0, n_rkf):\n",
    "        tk = t0 + k * h\n",
    "        u_current = u[k, :]\n",
    "        kappa1 = h * f(tk, u_current)\n",
    "        kappa2 = h * f(tk + h / 4, u_current + kappa1 / 4)\n",
    "        kappa3 = h * f(tk + 3 * h / 8, u_current + 3 * kappa1 / 32 + 9 * kappa2 / 32)\n",
    "        kappa4 = h * f(\n",
    "            tk + 12 * h / 13,\n",
    "            u_current\n",
    "            + 1932 * kappa1 / 2197\n",
    "            - 7200 * kappa2 / 2197\n",
    "            + 7296 * kappa3 / 2197,\n",
    "        )\n",
    "        kappa5 = h * f(\n",
    "            tk + h,\n",
    "            u_current\n",
    "            + 439 * kappa1 / 216\n",
    "            - 8 * kappa2\n",
    "            + 3680 * kappa3 / 513\n",
    "            - 845 * kappa4 / 4104,\n",
    "        )\n",
    "        u[k + 1, :] = u[k, :] + (\n",
    "            25 * kappa1 / 216 + 1408 * kappa3 / 2565 + 2197 * kappa4 / 4104 - kappa5 / 5\n",
    "        )\n",
    "    return u\n",
    "\n",
    "\n",
    "def rkf5(f, t0, T, u0, n_rkf):\n",
    "    h = (T - t0) / n_rkf\n",
    "    dim = u0.size\n",
    "    u = np.empty((n_rkf + 1, dim))\n",
    "    u[0, :] = u0\n",
    "    for k in range(0, n_rkf):\n",
    "        tk = t0 + k * h\n",
    "        u_current = u[k, :]\n",
    "        kappa1 = h * f(tk, u_current)\n",
    "        kappa2 = h * f(tk + h / 4, u_current + kappa1 / 4)\n",
    "        kappa3 = h * f(tk + 3 * h / 8, u_current + 3 * kappa1 / 32 + 9 * kappa2 / 32)\n",
    "        kappa4 = h * f(\n",
    "            tk + 12 * h / 13,\n",
    "            u_current\n",
    "            + 1932 * kappa1 / 2197\n",
    "            - 7200 * kappa2 / 2197\n",
    "            + 7296 * kappa3 / 2197,\n",
    "        )\n",
    "        kappa5 = h * f(\n",
    "            tk + h,\n",
    "            u_current\n",
    "            + 439 * kappa1 / 216\n",
    "            - 8 * kappa2\n",
    "            + 3680 * kappa3 / 513\n",
    "            - 845 * kappa4 / 4104,\n",
    "        )\n",
    "        kappa6 = h * f(\n",
    "            tk + h / 2,\n",
    "            u_current\n",
    "            - 8 * kappa1 / 27\n",
    "            + 2 * kappa2\n",
    "            - 3544 * kappa3 / 2565\n",
    "            + 1859 * kappa4 / 4104\n",
    "            - 11 * kappa5 / 40,\n",
    "        )\n",
    "        u[k + 1, :] = u[k, :] + (\n",
    "            16 * kappa1 / 135\n",
    "            + 6656 * kappa3 / 12825\n",
    "            + 28561 * kappa4 / 56430\n",
    "            - 9 * kappa5 / 50\n",
    "            + 2 * kappa6 / 55\n",
    "        )\n",
    "    return u\n",
    "\n",
    "\n",
    "def calc_erro(u_rkf, u_rk44):\n",
    "    erro_theta = abs(u_rkf[-1, 0] - u_rk44[-1, 0])\n",
    "    erro_theta_linha = abs(u_rkf[-1, 1] - u_rk44[-1, 1])\n",
    "    return erro_theta, erro_theta_linha\n",
    "\n",
    "\n",
    "def item_01(u0, t0, T, f, n_rkf, n_rk44):\n",
    "\n",
    "    u_rkf4 = rkf4(f, t0, T, u0, n_rkf)\n",
    "    u_rk44 = rk44_vet(u0, t0, T, f, n_rk44)\n",
    "\n",
    "    erro_theta, erro_theta_linha = calc_erro(u_rkf4, u_rk44)\n",
    "\n",
    "    return u_rkf4, u_rk44, erro_theta, erro_theta_linha\n",
    "\n",
    "\n",
    "def item_02(u0, t0, T, f, n_rkf, n_rk44):\n",
    "\n",
    "    u_rkf5 = rkf5(f, t0, T, u0, n_rkf)\n",
    "    u_rk44 = rk44_vet(u0, t0, T, f, n_rk44)\n",
    "\n",
    "    erro_theta, erro_theta_linha = calc_erro(u_rkf5, u_rk44)\n",
    "\n",
    "    return u_rkf5, u_rk44, erro_theta, erro_theta_linha"
   ]
  },
  {
   "cell_type": "markdown",
   "metadata": {},
   "source": [
    "### Item 01 e 02"
   ]
  },
  {
   "cell_type": "code",
   "execution_count": null,
   "metadata": {},
   "outputs": [],
   "source": [
    "# Implementação: Cálculo e Apresentação de Valores do Item 1.\n",
    "\n",
    "print(\"Item 01 - RKF4 vs RK44\")\n",
    "u_rkf4, u_rk44, erro_theta, erro_theta_linha = item_01(u0, t0, T, f, n_rkf4, n_rk44)\n",
    "print(\"erro theta(t): \", erro_theta)\n",
    "print(\"erro theta'(t): \", erro_theta_linha)\n",
    "\n",
    "print(\"\\n\")\n",
    "\n",
    "u_rkf5, u_rk44, erro_theta, erro_theta_linha = item_02(u0, t0, T, f, n_rkf5, n_rk44)\n",
    "print(\"Item 02 - RKF5 vs RK44\")\n",
    "print(\"erro theta(t): \", erro_theta)\n",
    "print(\"erro theta'(t): \", erro_theta_linha)\n",
    "\n",
    "t_aproximado_rkf = np.linspace(t0, T, n_rkf4 + 1)\n",
    "t_aproximado_rk44 = np.linspace(t0, T, n_rk44 + 1)\n",
    "t_aproximado_valor_final = np.linspace(t0, T, 1)\n",
    "\n",
    "figure, axs = plt.subplots(figsize=(5, 4))\n",
    "plt.xlabel(\"t\")\n",
    "plt.ylabel(\"u\")\n",
    "plt.plot(\n",
    "    t_aproximado_valor_final,\n",
    "    u_rkf5[-1, 0],\n",
    "    \"-o\",\n",
    "    label=r\"RKF5\",\n",
    "    linewidth=1,\n",
    "    markersize=2,\n",
    ")\n",
    "plt.plot(\n",
    "    t_aproximado_valor_final,\n",
    "    u_rkf4[-1, 0],\n",
    "    \"-o\",\n",
    "    label=r\"RKF4\",\n",
    "    linewidth=1,\n",
    "    markersize=2,\n",
    ")\n",
    "plt.plot(\n",
    "    t_aproximado_valor_final,\n",
    "    u_rk44[-1, 0],\n",
    "    \"-o\",\n",
    "    label=r\"RK44\",\n",
    "    linewidth=1,\n",
    "    markersize=2,\n",
    ")\n",
    "plt.legend()\n",
    "plt.grid(alpha=0.2)\n",
    "plt.title(r\"Valor Final - $\\theta(t)$\")\n",
    "\n",
    "figure, axs = plt.subplots(figsize=(5, 4))\n",
    "plt.xlabel(\"t\")\n",
    "plt.ylabel(\"u\")\n",
    "plt.plot(t_aproximado_rkf, u_rkf5[:, 0], \"-o\", label=r\"RKF5\", linewidth=1, markersize=2)\n",
    "plt.plot(t_aproximado_rkf, u_rkf4[:, 0], \"-o\", label=r\"RKF4\", linewidth=1, markersize=2)\n",
    "plt.plot(t_aproximado_rk44, u_rk44[:, 0], label=r\"RK44\", linewidth=1, markersize=2)\n",
    "plt.legend()\n",
    "plt.grid(alpha=0.2)\n",
    "plt.title(r\"Solução do problema - $\\theta(t)$\")\n",
    "\n",
    "figure, axs = plt.subplots(figsize=(5, 4))\n",
    "plt.xlabel(\"t\")\n",
    "plt.ylabel(\"u\")\n",
    "plt.plot(\n",
    "    t_aproximado_valor_final,\n",
    "    u_rkf5[-1, 1],\n",
    "    \"-o\",\n",
    "    label=r\"RKF5\",\n",
    "    linewidth=1,\n",
    "    markersize=2,\n",
    ")\n",
    "plt.plot(\n",
    "    t_aproximado_valor_final,\n",
    "    u_rkf4[-1, 1],\n",
    "    \"-o\",\n",
    "    label=r\"RKF4\",\n",
    "    linewidth=1,\n",
    "    markersize=2,\n",
    ")\n",
    "plt.plot(\n",
    "    t_aproximado_valor_final,\n",
    "    u_rk44[-1, 1],\n",
    "    \"-o\",\n",
    "    label=r\"RK44\",\n",
    "    linewidth=1,\n",
    "    markersize=2,\n",
    ")\n",
    "plt.legend()\n",
    "plt.grid(alpha=0.2)\n",
    "plt.title(r\"Valor Final - $\\theta'(t)$\")\n",
    "\n",
    "figure, axs = plt.subplots(figsize=(5, 4))\n",
    "plt.xlabel(\"t\")\n",
    "plt.ylabel(\"u\")\n",
    "plt.plot(t_aproximado_rkf, u_rkf5[:, 1], \"-o\", label=r\"RKF5\", linewidth=1, markersize=2)\n",
    "plt.plot(t_aproximado_rkf, u_rkf4[:, 1], \"-o\", label=r\"RKF4\", linewidth=1, markersize=2)\n",
    "plt.plot(\n",
    "    t_aproximado_rk44, u_rk44[:, 1], label=r\"RK44\", linewidth=1, linestyle=\"dashed\"\n",
    ")\n",
    "plt.legend()\n",
    "plt.grid(alpha=0.2)\n",
    "plt.title(r\"Solução do problema - $\\theta'(t)$\")"
   ]
  },
  {
   "cell_type": "markdown",
   "metadata": {},
   "source": [
    "### Item 03"
   ]
  },
  {
   "cell_type": "code",
   "execution_count": null,
   "metadata": {},
   "outputs": [],
   "source": [
    "def f(t, u):\n",
    "    theta, omega = u\n",
    "    return np.array([omega, -g / L * np.sin(theta)])\n",
    "\n",
    "\n",
    "# Método RKF Completo\n",
    "def rkf(f, t0, T, u0, h0, tol):\n",
    "    p = 4  # ordem p = 4\n",
    "    c = 2  # fator de segurança\n",
    "    t = [t0]\n",
    "    u = [u0]\n",
    "    h = h0\n",
    "    h_max = 1\n",
    "    h_min = 1e-15\n",
    "    passos = 0\n",
    "\n",
    "    while t[-1] < T:\n",
    "        \n",
    "        if t[-1] + h > T:\n",
    "            h = T - t[-1]\n",
    "\n",
    "        u_current = u[-1]\n",
    "        t_current = t[-1]\n",
    "\n",
    "        kappa1 = h * f(t_current, u_current)\n",
    "        kappa2 = h * f(t_current + h / 4, u_current + kappa1 / 4)\n",
    "        kappa3 = h * f(\n",
    "            t_current + 3 * h / 8, u_current + 3 * kappa1 / 32 + 9 * kappa2 / 32\n",
    "        )\n",
    "        kappa4 = h * f(\n",
    "            t_current + 12 * h / 13,\n",
    "            u_current\n",
    "            + 1932 * kappa1 / 2197\n",
    "            - 7200 * kappa2 / 2197\n",
    "            + 7296 * kappa3 / 2197,\n",
    "        )\n",
    "        kappa5 = h * f(\n",
    "            t_current + h,\n",
    "            u_current\n",
    "            + 439 * kappa1 / 216\n",
    "            - 8 * kappa2\n",
    "            + 3680 * kappa3 / 513\n",
    "            - 845 * kappa4 / 4104,\n",
    "        )\n",
    "        kappa6 = h * f(\n",
    "            t_current + h / 2,\n",
    "            u_current\n",
    "            - 8 * kappa1 / 27\n",
    "            + 2 * kappa2\n",
    "            - 3544 * kappa3 / 2565\n",
    "            + 1859 * kappa4 / 4104\n",
    "            - 11 * kappa5 / 40,\n",
    "        )\n",
    "\n",
    "        u_4th = u_current + (\n",
    "            25 * kappa1 / 216 + 1408 * kappa3 / 2565 + 2197 * kappa4 / 4104 - kappa5 / 5\n",
    "        )\n",
    "        u_5th = u_current + (\n",
    "            16 * kappa1 / 135\n",
    "            + 6656 * kappa3 / 12825\n",
    "            + 28561 * kappa4 / 56430\n",
    "            - 9 * kappa5 / 50\n",
    "            + 2 * kappa6 / 55\n",
    "        )\n",
    "\n",
    "        erro_truncamento = np.linalg.norm(u_5th - u_4th) / h\n",
    "\n",
    "        if erro_truncamento < tol:\n",
    "            t.append(t_current + h)\n",
    "            u.append(u_4th)\n",
    "\n",
    "        alpha = min(\n",
    "            max((tol / (erro_truncamento * c)) ** (1 / p), 0.1), 4\n",
    "        )\n",
    "        h = h * alpha\n",
    "        \n",
    "        if h > h_max:\n",
    "            h = h_max\n",
    "        elif h < h_min or t[-1]==t[-1]-h:\n",
    "            raise RuntimeError(\"Erro: Não foi possível convergir para a tolerância desejada.\")\n",
    "\n",
    "        passos += 1\n",
    "\n",
    "    return np.array(t), np.array(u), passos\n",
    "\n",
    "\n",
    "# Condições iniciais\n",
    "theta0 = np.pi / 6\n",
    "omega0 = 0.0\n",
    "u0 = np.array([theta0, omega0])\n",
    "\n",
    "t0 = 0.0\n",
    "T = 8.0\n",
    "h0 = 0.1  # Passo inicial (= T-t0 / n -> n = 80)\n",
    "\n",
    "g = 9.81  # Aceleração da gravidade (Jupiter = 24.79 , Terra = 9.81)\n",
    "L = 1.2  # comprimento do fio (metros)\n",
    "\n",
    "tolerancias = [1e-4, 1e-6]  # Tolerancias\n",
    "\n",
    "# Resolvendo o sistema com RKF45 para diferentes tolerâncias\n",
    "resultados = {}\n",
    "for tol in tolerancias:\n",
    "    t_rkf, u_rkf, passos_rkf = rkf(f, t0, T, u0, h0, tol)\n",
    "    resultados[tol] = (t_rkf, u_rkf, passos_rkf)\n",
    "\n",
    "# Resolvendo o sistema com RK4 usando n = 1000 para obter uma referência\n",
    "n_rk44 = 1000\n",
    "u_rk4 = rk44_vet(u0, t0, T, f, n_rk44)\n",
    "theta_rk4 = u_rk4[:, 0]\n",
    "omega_rk4 = u_rk4[:, 1]\n",
    "\n",
    "t_aproximado_rk44 = np.linspace(t0, T, n_rk44 + 1)\n",
    "\n",
    "# Comparando os erros no instante final\n",
    "for tol in tolerancias:\n",
    "    t_rkf, u_rkf, passos_rkf = resultados[tol]\n",
    "    theta_rkf = u_rkf[:, 0]\n",
    "    omega_rkf = u_rkf[:, 1]\n",
    "\n",
    "    erro_theta_final = np.abs(theta_rkf[-1] - theta_rk4[-1])\n",
    "    erro_omega_final = np.abs(omega_rkf[-1] - omega_rk4[-1])\n",
    "\n",
    "    print(f\"Tolerância {tol}:\")\n",
    "    print(f\"Erro em θ no instante final: {erro_theta_final}\")\n",
    "    print(f\"Erro em θ' no instante final: {erro_omega_final}\")\n",
    "    print(f\"Passos RKF: {passos_rkf}\\n\")\n",
    "\n",
    "figure, axs = plt.subplots(figsize=(5, 4))\n",
    "for tol in tolerancias:\n",
    "    t_rkf, u_rkf, passos_rkf = resultados[tol]\n",
    "    theta_rkf = u_rkf[:, 0]\n",
    "    plt.plot(\n",
    "        t_rkf, theta_rkf, \"-o\", label=f\"RKF45 θ (tol={tol})\", linewidth=1, markersize=2\n",
    "    )\n",
    "plt.plot(\n",
    "    t_aproximado_rk44,\n",
    "    theta_rk4,\n",
    "    label=\"RK44 θ (n=1000)\",\n",
    "    linewidth=1,\n",
    "    markersize=2,\n",
    "    linestyle=\"dashed\",\n",
    ")\n",
    "plt.xlabel(\"t\")\n",
    "plt.ylabel(\"u\")\n",
    "plt.legend()\n",
    "\n",
    "figure, axs = plt.subplots(figsize=(5, 4))\n",
    "for tol in tolerancias:\n",
    "    t_rkf, u_rkf, passos_rkf = resultados[tol]\n",
    "    omega_rkf = u_rkf[:, 1]\n",
    "    plt.plot(\n",
    "        t_rkf, omega_rkf, \"-o\", label=f\"RKF45 θ' (tol={tol})\", linewidth=1, markersize=2\n",
    "    )\n",
    "plt.plot(\n",
    "    t_aproximado_rk44,\n",
    "    omega_rk4,\n",
    "    label=\"RK44 θ' (n=1000)\",\n",
    "    linewidth=1,\n",
    "    markersize=2,\n",
    "    linestyle=\"dashed\",\n",
    ")\n",
    "plt.xlabel(\"t\")\n",
    "plt.ylabel(\"u\")\n",
    "plt.legend()\n",
    "\n",
    "plt.tight_layout()\n",
    "plt.show()"
   ]
  },
  {
   "cell_type": "markdown",
   "metadata": {},
   "source": [
    "### Item 04"
   ]
  },
  {
   "cell_type": "code",
   "execution_count": null,
   "metadata": {},
   "outputs": [],
   "source": [
    "# Condições iniciais\n",
    "theta0 = np.pi / 6\n",
    "omega0 = 0.0\n",
    "u0 = np.array([theta0, omega0])\n",
    "\n",
    "t0 = 0.0\n",
    "T = 8.0\n",
    "h0 = 0.1  # Passo inicial (= T-t0 / n -> n = 80)\n",
    "\n",
    "g = 24.79  # Aceleração da gravidade (Jupiter = 24.79 , Terra = 9.81)\n",
    "L = 1.2  # comprimento do fio (metros)\n",
    "\n",
    "tolerancias = [1e-4, 1e-6]  # Tolerancias\n",
    "\n",
    "# Resolvendo o sistema com RKF45 para diferentes tolerâncias\n",
    "resultados = {}\n",
    "for tol in tolerancias:\n",
    "    t_rkf, u_rkf, passos_rkf = rkf(f, t0, T, u0, h0, tol)\n",
    "    resultados[tol] = (t_rkf, u_rkf, passos_rkf)\n",
    "\n",
    "# Resolvendo o sistema com RK4 usando n = 1000 para obter uma referência\n",
    "n_rk44 = 1000\n",
    "u_rk4 = rk44_vet(u0, t0, T, f, n_rk44)\n",
    "theta_rk4 = u_rk4[:, 0]\n",
    "omega_rk4 = u_rk4[:, 1]\n",
    "\n",
    "t_aproximado_rk44 = np.linspace(t0, T, n_rk44 + 1)\n",
    "\n",
    "# Comparando os erros no instante final\n",
    "for tol in tolerancias:\n",
    "    t_rkf, u_rkf, passos_rkf = resultados[tol]\n",
    "    theta_rkf = u_rkf[:, 0]\n",
    "    omega_rkf = u_rkf[:, 1]\n",
    "\n",
    "    erro_theta_final = np.abs(theta_rkf[-1] - theta_rk4[-1])\n",
    "    erro_omega_final = np.abs(omega_rkf[-1] - omega_rk4[-1])\n",
    "\n",
    "    print(f\"Tolerância {tol}:\")\n",
    "    print(f\"Erro em θ no instante final: {erro_theta_final}\")\n",
    "    print(f\"Erro em θ' no instante final: {erro_omega_final}\")\n",
    "    print(f\"Passos RKF: {passos_rkf}\\n\")\n",
    "\n",
    "figure, axs = plt.subplots(figsize=(5, 4))\n",
    "for tol in tolerancias:\n",
    "    t_rkf, u_rkf, passos_rkf = resultados[tol]\n",
    "    theta_rkf = u_rkf[:, 0]\n",
    "    plt.plot(\n",
    "        t_rkf, theta_rkf, \"-o\", label=f\"RKF45 θ (tol={tol})\", linewidth=1, markersize=2\n",
    "    )\n",
    "plt.plot(\n",
    "    t_aproximado_rk44,\n",
    "    theta_rk4,\n",
    "    label=\"RK44 θ (n=1000)\",\n",
    "    linewidth=1,\n",
    "    markersize=2,\n",
    "    linestyle=\"dashed\",\n",
    ")\n",
    "plt.xlabel(\"t\")\n",
    "plt.ylabel(\"u\")\n",
    "plt.legend()\n",
    "\n",
    "figure, axs = plt.subplots(figsize=(5, 4))\n",
    "for tol in tolerancias:\n",
    "    t_rkf, u_rkf, passos_rkf = resultados[tol]\n",
    "    omega_rkf = u_rkf[:, 1]\n",
    "    plt.plot(\n",
    "        t_rkf, omega_rkf, \"-o\", label=f\"RKF45 θ' (tol={tol})\", linewidth=1, markersize=2\n",
    "    )\n",
    "plt.plot(\n",
    "    t_aproximado_rk44,\n",
    "    omega_rk4,\n",
    "    label=\"RK44 θ' (n=1000)\",\n",
    "    linewidth=1,\n",
    "    markersize=2,\n",
    "    linestyle=\"dashed\",\n",
    ")\n",
    "plt.xlabel(\"t\")\n",
    "plt.ylabel(\"u\")\n",
    "plt.legend()\n",
    "\n",
    "plt.tight_layout()\n",
    "plt.show()"
   ]
  },
  {
   "cell_type": "markdown",
   "metadata": {},
   "source": [
    "### Comentários"
   ]
  },
  {
   "cell_type": "markdown",
   "metadata": {
    "id": "xthBJw69dK8G"
   },
   "source": [
    "Ao compararmos a frequência de oscilação do pêndulo em Júpiter, percebe-se que é maior do que na Terra, ou seja, o pêndulo oscila mais rápido. Também percebe-se que o método de Runge-Kutta-Fehlberg realiza mais passos para chegar ao mesmo erro em Júpiter, se comparado à Terra. Isso ocorre pois as variações na velocidade angular $\\omega$ e ângulo $\\theta$ ocorrem mais rapidamente, fazendo com que o passo de tempo _h_ tenha que ser reduzido com maior frequência. Em resumo, quanto maior o valor de _g_, maior a frequência de oscilação, maior a variação de $\\omega$ e $\\theta$ e mais frequente a adaptação de _h_, levando a um maior número de passos. Segue um exemplo para quando _g_ = 100"
   ]
  },
  {
   "cell_type": "code",
   "execution_count": null,
   "metadata": {},
   "outputs": [],
   "source": [
    "# # Condições iniciais\n",
    "# theta0 = np.pi / 6\n",
    "# omega0 = 0.0\n",
    "# u0 = np.array([theta0, omega0])\n",
    "\n",
    "# t0 = 0.0\n",
    "# T = 8.0\n",
    "# h0 = 0.1  # Passo inicial (= T-t0 / n -> n = 80)\n",
    "\n",
    "# g = 100  # Aceleração da gravidade (Jupiter = 24.79 , Terra = 9.81)\n",
    "# L = 1.2  # comprimento do fio (metros)\n",
    "\n",
    "# tolerancias = [1e-4, 1e-6]  # Tolerancias\n",
    "\n",
    "# # Resolvendo o sistema com RKF45 para diferentes tolerâncias\n",
    "# resultados = {}\n",
    "# for tol in tolerancias:\n",
    "#     t_rkf, u_rkf, passos_rkf = rkf(f, t0, T, u0, h0, tol)\n",
    "#     resultados[tol] = (t_rkf, u_rkf, passos_rkf)\n",
    "\n",
    "# # Resolvendo o sistema com RK4 usando n = 1000 para obter uma referência\n",
    "# n_rk44 = 1000\n",
    "# u_rk4 = rk44_vet(u0, t0, T, f, n_rk44)\n",
    "# theta_rk4 = u_rk4[:, 0]\n",
    "# omega_rk4 = u_rk4[:, 1]\n",
    "\n",
    "# t_aproximado_rk44 = np.linspace(t0, T, n_rk44 + 1)\n",
    "\n",
    "# # Comparando os erros no instante final\n",
    "# for tol in tolerancias:\n",
    "#     t_rkf, u_rkf, passos_rkf = resultados[tol]\n",
    "#     theta_rkf = u_rkf[:, 0]\n",
    "#     omega_rkf = u_rkf[:, 1]\n",
    "\n",
    "#     erro_theta_final = np.abs(theta_rkf[-1] - theta_rk4[-1])\n",
    "#     erro_omega_final = np.abs(omega_rkf[-1] - omega_rk4[-1])\n",
    "\n",
    "#     print(f\"Tolerância {tol}:\")\n",
    "#     print(f\"Erro em θ no instante final: {erro_theta_final}\")\n",
    "#     print(f\"Erro em θ' no instante final: {erro_omega_final}\")\n",
    "#     print(f\"Passos RKF: {passos_rkf}\\n\")\n",
    "\n",
    "# figure, axs = plt.subplots(figsize=(5, 4))\n",
    "# for tol in tolerancias:\n",
    "#     t_rkf, u_rkf, passos_rkf = resultados[tol]\n",
    "#     theta_rkf = u_rkf[:, 0]\n",
    "#     plt.plot(\n",
    "#         t_rkf, theta_rkf, \"-o\", label=f\"RKF45 θ (tol={tol})\", linewidth=1, markersize=2\n",
    "#     )\n",
    "# plt.plot(\n",
    "#     t_aproximado_rk44,\n",
    "#     theta_rk4,\n",
    "#     label=\"RK44 θ (n=1000)\",\n",
    "#     linewidth=1,\n",
    "#     markersize=2,\n",
    "#     linestyle=\"dashed\",\n",
    "# )\n",
    "# plt.xlabel(\"t\")\n",
    "# plt.ylabel(\"u\")\n",
    "# plt.legend()\n",
    "\n",
    "# figure, axs = plt.subplots(figsize=(5, 4))\n",
    "# for tol in tolerancias:\n",
    "#     t_rkf, u_rkf, passos_rkf = resultados[tol]\n",
    "#     omega_rkf = u_rkf[:, 1]\n",
    "#     plt.plot(\n",
    "#         t_rkf, omega_rkf, \"-o\", label=f\"RKF45 θ' (tol={tol})\", linewidth=1, markersize=2\n",
    "#     )\n",
    "# plt.plot(\n",
    "#     t_aproximado_rk44,\n",
    "#     omega_rk4,\n",
    "#     label=\"RK44 θ' (n=1000)\",\n",
    "#     linewidth=1,\n",
    "#     markersize=2,\n",
    "#     linestyle=\"dashed\",\n",
    "# )\n",
    "# plt.xlabel(\"t\")\n",
    "# plt.ylabel(\"u\")\n",
    "# plt.legend()\n",
    "\n",
    "# plt.tight_layout()\n",
    "# plt.show()"
   ]
  },
  {
   "cell_type": "markdown",
   "metadata": {
    "id": "LUvMJOf95TXP"
   },
   "source": [
    "--------------"
   ]
  },
  {
   "cell_type": "markdown",
   "metadata": {
    "id": "IPSZ76iWp6Al"
   },
   "source": [
    "## Aplicações: O Circuito de Chua"
   ]
  },
  {
   "cell_type": "markdown",
   "metadata": {
    "id": "O0mGzUcqKIwQ"
   },
   "source": [
    "\n",
    "O circuito de Chua é um circuito elétrico simples formado por 2 capacitores lineares ($C_1$ e $C_2$), um resistor linear ($R$), um indutor linear ($L$) e um resistor não linear controlado pela tensão ($N_R$), conforme a figura abaixo."
   ]
  },
  {
   "cell_type": "markdown",
   "metadata": {
    "id": "G5tEFBxtXUUc"
   },
   "source": [
    "![Screenshot from 2023-06-06 17-19-11.png](data:image/png;base64,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)"
   ]
  },
  {
   "cell_type": "markdown",
   "metadata": {
    "id": "1a-s3sLBKgMG"
   },
   "source": [
    "\n",
    "O resistor não linear $N_R$, conhecido como diodo de Chua, é definido de forma linear por pedaços, isto é, dependendo da tensão ele fornece uma resistência diferente. A corrente de $N_R$ é definida por\n",
    "\\begin{equation*}\n",
    "g(V)=\n",
    "\\begin{cases}\n",
    "G_b V + (G_b-G_a) E, &\\quad \\text{se} \\quad V \\leq -E \\\\\n",
    "G_a V, &\\quad \\text{se} \\quad -E < V < E \\\\\n",
    "G_b V + (G_a-G_b) E, &\\quad \\text{se} \\quad V \\geq E\\\\\n",
    "\\end{cases}\n",
    "\\end{equation*}\n",
    "\n",
    "onde $G_a$ e $G_b$ são inclinações das curvas da relação tensão ($V$) versus corrente ($i$) e $E>0$ é um valor de tensão de corte para mudança de regime, conforme o gráfico abaixo."
   ]
  },
  {
   "cell_type": "markdown",
   "metadata": {
    "id": "Mif8W2FFKucV"
   },
   "source": [
    "![curva.resized.png](data:image/png;base64,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)"
   ]
  },
  {
   "cell_type": "markdown",
   "metadata": {
    "id": "3ze4RyUzK0Y2"
   },
   "source": [
    "\n",
    "Usando as leis de  Kirchhoff para esse circuito é possível deduzirmos o seguinte sistema de equações diferenciais para as tensões nos capacitores ($V_{C_1}$ e $V_{C_2}$) e a corrente no indutor ($I_L$),\n",
    "\\begin{eqnarray*}\n",
    "\\dot{V}_{C_1}&=&\\frac{1}{R C_1}(V_{C_2}-V_{C_1})-\\frac{1}{C_1} g(V_{C_1}), \\\\\n",
    "\\dot{V}_{C_2}&=&\\frac{1}{R C_2}(V_{C_1}-V_{C_2})+\\frac{1}{C_2}I_L,\\\\\n",
    "\\dot{I}_L&=&-\\frac{1}{L}V_{C_2}.\n",
    "\\end{eqnarray*}\n"
   ]
  },
  {
   "cell_type": "markdown",
   "metadata": {
    "id": "aFofw7e4K6U9"
   },
   "source": [
    "O interessante desse circuito é que ele é simples de ser montado (veja aqui: https://inst.eecs.berkeley.edu/~ee129/sp10/handouts/ChuasCircuitForHighSchoolStudents-PREPRINT.pdf ) e define um sistema dinâmico caótico, para o qual pequenas variações nos parâmetros e condições iniciais podem levar a soluções bastante distintas!"
   ]
  },
  {
   "cell_type": "markdown",
   "metadata": {
    "id": "YdndZjnZLTE0"
   },
   "source": [
    "Vamos ver um exemplo de solução desse problema baseado em http://www.chuacircuits.com/ !"
   ]
  },
  {
   "cell_type": "markdown",
   "metadata": {
    "id": "GJ2JFgTyLeWD"
   },
   "source": [
    "#### Exemplo de Circuito de Chua"
   ]
  },
  {
   "cell_type": "markdown",
   "metadata": {
    "id": "PHZP3D39LiRa"
   },
   "source": [
    "\n",
    "Vamos considerar os seguintes parâmetros fixados:\n",
    "\n",
    "*   Alimentação por bateria de $9V$\n",
    "*   $C_1  =  10 nF $\n",
    "*   $C_2 = 100 nF $\n",
    "*   $L = 18 mH $\n",
    "\n",
    "Para o resistor não linear considerar:\n",
    "*  $E=1.17391304 V,$\n",
    "*  $G_a=-50/66 mS,$\n",
    "*  $G_b=-9/22 mS. $\n",
    "\n",
    "Para simular um comportamento passível de ser implementado fisicamente, o resistor não linear precisa de parâmetros adicionais para manter o sistema dentro de tensões realizáveis. Considere que a equação definida anteriormente para o resistor não linear é válida para tensões em módulo menores que $E_{\\max}$. Para tensões maiores do que isso, considerar\n",
    "\\begin{equation*}\n",
    "g(V)=\n",
    "\\begin{cases}\n",
    "G_c V + E_{\\max} (G_c-G_b) +  E (G_b-G_a) & \\quad \\text{se} \\quad V \\leq -E_{\\max} \\\\\n",
    "G_b V + (G_b-G_a) E, &\\quad \\text{se} \\quad -E_{\\max} < V \\leq -E \\\\\n",
    "G_a V, &\\quad \\text{se} \\quad -E < V < E \\\\\n",
    "G_b V + (G_a-G_b) E, &\\quad \\text{se} \\quad E \\leq V < E_{\\max}\\\\\n",
    "G_c V + E_{\\max} (G_b-G_c) +  E (G_a-G_b) & \\quad \\text{se} \\quad  E_{\\max} \\leq V \\\\\n",
    "\\end{cases}\n",
    "\\end{equation*}\n",
    "Adotaremos $E_{\\max}=8.1818$ V e $G_c=4.591$ mS.\n",
    "\n"
   ]
  },
  {
   "cell_type": "code",
   "execution_count": null,
   "metadata": {
    "id": "RoUzwebZLOr5"
   },
   "outputs": [],
   "source": [
    "# Definindo os parâmetros\n",
    "C1 = 10 * 10 ** (-9)\n",
    "print(\"C1 =\", C1, \"F\")\n",
    "\n",
    "C2 = 100 * 10 ** (-9)\n",
    "print(\"C2 =\", C2, \"F\")\n",
    "\n",
    "L = 18 * 10 ** (-3)\n",
    "print(\"L =\", L, \"H\")\n",
    "\n",
    "E = 1.17391304\n",
    "print(\"E =\", E, \"V\")\n",
    "\n",
    "Emax = 8.1818\n",
    "print(\"Emax =\", Emax, \"V\")\n",
    "\n",
    "Ga = -(50 / 66) * 10 ** (-3)\n",
    "print(\"Ga =\", Ga, \"S\")\n",
    "\n",
    "Gb = -(9 / 22) * 10 ** (-3)\n",
    "print(\"Gb =\", Gb, \"S\")\n",
    "\n",
    "Gc = 4.591 * 10 ** (-3)\n",
    "print(\"Gc =\", Gc, \"S\")\n",
    "\n",
    "R = 1800\n",
    "print(\"R =\", R, \"Ohms\")"
   ]
  },
  {
   "cell_type": "code",
   "execution_count": null,
   "metadata": {
    "id": "UYLXm_-nN9T0"
   },
   "outputs": [],
   "source": [
    "# Função g\n",
    "#  (não é vetorial por conta dos ifs!)\n",
    "def g(V):\n",
    "    if V <= -Emax:\n",
    "        return Gc * V + Emax * (Gc - Gb) + E * (Gb - Ga)\n",
    "    if V <= -E:\n",
    "        return Gb * V + E * (Gb - Ga)\n",
    "    if V <= E:\n",
    "        return Ga * V\n",
    "    if V <= Emax:\n",
    "        return Gb * V + E * (Ga - Gb)\n",
    "    if V >= Emax:\n",
    "        return Gc * V + Emax * (Gb - Gc) + E * (Ga - Gb)"
   ]
  },
  {
   "cell_type": "code",
   "execution_count": null,
   "metadata": {
    "id": "utc9Naq7PPNR"
   },
   "outputs": [],
   "source": [
    "# Voltagens de teste para gráfico da função g\n",
    "v = np.linspace(-10, 10, 200)\n",
    "gv = np.zeros_like(v)\n",
    "for i, vi in enumerate(v):\n",
    "    gv[i] = g(vi)\n",
    "\n",
    "figure, axs = plt.subplots(figsize=(6, 5))\n",
    "plt.title(\"Curva do Diodo de Chua\")\n",
    "plt.xlabel(\"V\")\n",
    "plt.ylabel(\"g(V)\")\n",
    "plt.plot(v, gv, \"-\", label=\"g(V)\", linewidth=1, markersize=2)\n",
    "\n",
    "plt.grid()\n",
    "plt.legend()\n",
    "plt.show()"
   ]
  },
  {
   "cell_type": "markdown",
   "metadata": {
    "id": "ZZJp5IM9YU_R"
   },
   "source": [
    "Ao final, temos o sguinte sistema de EDOs:"
   ]
  },
  {
   "cell_type": "markdown",
   "metadata": {
    "id": "53NgOzUMLOD8"
   },
   "source": [
    "\n",
    "\\begin{eqnarray*}\n",
    "\\dot{V}_{C_1}&=&\\frac{1}{R C_1}(V_{C_2}-V_{C_1})-\\frac{1}{C_1} g(V_{C_1}), \\\\\n",
    "\\dot{V}_{C_2}&=&\\frac{1}{R C_2}(V_{C_1}-V_{C_2})+\\frac{1}{C_2}I_L,\\\\\n",
    "\\dot{I}_L&=&-\\frac{1}{L}V_{C_2}.\n",
    "\\end{eqnarray*}"
   ]
  },
  {
   "cell_type": "markdown",
   "metadata": {
    "id": "mEldz4vIbKCH"
   },
   "source": [
    "Assumiremos como condições iniciais $V_{C_1}=-0.5V$, $V_{C_2}=-0.2$ e $I_L=0$. Vamos variar o valor do resistor ($R$) nos experimentos a seguir."
   ]
  },
  {
   "cell_type": "markdown",
   "metadata": {
    "id": "lOXsV3Jtf2kg"
   },
   "source": [
    "### ❗Exercício 4❗"
   ]
  },
  {
   "cell_type": "markdown",
   "metadata": {
    "id": "0Be2B1ANf4Y5"
   },
   "source": [
    "Este sistema é um sistema que com características caóticas dependendo dos parêmetros. Vamos simular as características do sistema variando a resistência $R$, como faríamos no caso prático, girando um potenciômetro.\n",
    "\n",
    "**Tarefa**: Simule, usando o seu método de Runge–Kutta–Fehlberg vetorial o sistema variando a resistência entre $R=1000 \\Omega$ e $R=3000 \\Omega$ , fazendo 2 tipos de gráficos:\n",
    "- Gráficos da evolução de $V_{C_1}(t)$, $V_{C_2}(t)$ e $I_L(t)$ ao longo do tempo, no plano $(t, y)$.\n",
    "- Gráficos das órbitas/trajetórias de $V_{C_1}(t)$, $V_{C_2}(t)$ e $I_L(t)$ em dimensão 3, plotanto a curva $(V_{C_1}(t),V_{C_2}(t),I_L(t))$.\n",
    "\n",
    "Responda:\n",
    "1.  Para que valores de $R$ o sistema converge para uma órbita periódica? Neste caso, passado um certo tempo (longo) o sistema fica rodando em ciclos, retornando a condições que já teve depois de um período. (Por conta da precisão do método e da aritmética de ponto flutuante, a órbita não será exatamente periódica, mas deve retornar após um certo tempo a um ponto bem próximo de onde já esteve antes).\n",
    "2.  Para que valores de $R$ o sistema converge para um um ponto estacionário? (Ponto atrator, de equilíbrio do sistema).\n",
    "3.  Encontre os valores críticos de $R$ para os quais o sistema deixa de convergir para órbitas perídicas e passa a oscilar em um \"atrator estranho\" (parecem asas de borboleta em 3D?). Esses valores de $R$ são conhecidos como pontos de bifurcação do sistema.\n",
    "\n",
    "As respostas podem ser aproximadas (valores de $R$). Tente comentar sobre o comportamento da solução em cada caso, e se há comportamentos diferentes dentre as possíveis órbitas perídicas.\n",
    "\n",
    "**Observação:** O objetivo dessa atividade é verificar que mesmo em sistemas dinâmicos (sistemas de EDOs) originados de problemas práticos, neste caso um circuito eletrônico, as soluções podem ter características bem distintas dependendo dos parâmetros. Com isso, fica o alerta sobre a sensibilidade a parâmetros em certos problemas reais!\n",
    "\n"
   ]
  },
  {
   "cell_type": "code",
   "execution_count": null,
   "metadata": {},
   "outputs": [],
   "source": [
    "# Códigos\n",
    "\n",
    "def f(t, u):\n",
    "    VC1, VC2, IL = u\n",
    "    return np.array(\n",
    "        [\n",
    "            (((1 / (R * C1)) * (VC2 - VC1)) - ((1 / C1) * g(VC1))),\n",
    "            (((1 / (R * C2)) * (VC1 - VC2)) + ((1 / C2) * IL)),\n",
    "            ((-1 / L) * VC2),\n",
    "        ]\n",
    "    )\n",
    "\n",
    "\n",
    "# Condições iniciais\n",
    "VC1 = -0.5\n",
    "VC2 = -0.2\n",
    "IL = 0\n",
    "u0 = np.array([VC1, VC2, IL])\n",
    "\n",
    "t0 = 0 \n",
    "T = 0.1\n",
    "h0 = 0.1 # Passo inicial (= T-t0 / n -> n = 100)\n",
    "\n",
    "tol = 0.1\n",
    "\n",
    "R = 1800\n",
    "  \n",
    "print('R: ', R)\n",
    "\n",
    "t_rkf, u_rkf, passos_rkf = rkf(f, t0, T, u0, h0, tol)\n",
    "\n",
    "VC1_rkf = u_rkf[:, 0]\n",
    "VC2_rkf = u_rkf[:, 1]\n",
    "IL_rkf = u_rkf[:, 2]\n",
    "\n",
    "figure, axs = plt.subplots(figsize=(5, 4))\n",
    "plt.plot(\n",
    "    t_rkf, VC1_rkf, label=f\"VC1\", linewidth=1\n",
    ")\n",
    "plt.plot(\n",
    "    t_rkf, VC2_rkf, label=f\"VC2\", linewidth=1\n",
    ")\n",
    "plt.xlabel(\"t\")\n",
    "plt.ylabel(\"V\")\n",
    "plt.legend()\n",
    "plt.tight_layout()\n",
    "plt.show()\n",
    "\n",
    "figure, axs = plt.subplots(figsize=(5, 4))\n",
    "plt.plot(\n",
    "  t_rkf, IL_rkf, label=f\"Il\", linewidth=1\n",
    ")\n",
    "plt.xlabel(\"t\")\n",
    "plt.ylabel(\"A\")\n",
    "plt.legend()\n",
    "plt.tight_layout()\n",
    "plt.show()\n",
    "\n",
    "# Gráfico 3D das trajetórias\n",
    "fig = plt.figure(figsize=(12, 8))\n",
    "ax = fig.add_subplot(111, projection='3d')\n",
    "ax.plot(VC1_rkf, VC2_rkf, IL_rkf, label=f'R0 = {R}Ω')\n",
    "ax.set_xlabel('V1 (V)')\n",
    "ax.set_ylabel('V2 (V)')\n",
    "ax.set_zlabel('Il (A)')\n",
    "ax.legend()\n",
    "plt.tight_layout()\n",
    "plt.show()"
   ]
  },
  {
   "cell_type": "markdown",
   "metadata": {
    "id": "ovbg2aDo1_cr"
   },
   "source": [
    "Valores de $R$ das questões e comentários:\n",
    "\n",
    "Utilizando um intervalo de tempo T=0.1\n",
    "\n",
    "1. Para valores nos intervalos aproximados $1000 \\le R < 1530$ e $1940 \\le R < 2020$ o sistema converge para uma órbita periódica.\n",
    "\n",
    "2. Para valores no intervalo $R > 2030$ o sistema converge para um ponto estacionário.\n",
    "\n",
    "3. Para valores no intervalo $1530 \\le R < 1940$ o sistema apresenta comportamento de com pontos de bifurcação.\n",
    "\n",
    "É muito interessante perceber como uma pequena variação em R pode gerar comportamentos tão diferentes nos valores, definindo de fato um sistema caótico.\n",
    "\n",
    "Também percebe-se que dentro desses intervalos ainda pode haver uma grande variação no comportamento desses valores. Ao rodar a célula abaixo, percebe-se os diferentes comportamentos, variando em intervalos de 100Ω."
   ]
  },
  {
   "cell_type": "code",
   "execution_count": null,
   "metadata": {},
   "outputs": [],
   "source": [
    "R = 1000\n",
    "\n",
    "while R <= 3000:\n",
    "  \n",
    "  print('R: ', R)\n",
    "\n",
    "  t_rkf, u_rkf, passos_rkf = rkf(f, t0, T, u0, h0, tol)\n",
    "\n",
    "  VC1_rkf = u_rkf[:, 0]\n",
    "  VC2_rkf = u_rkf[:, 1]\n",
    "  IL_rkf = u_rkf[:, 2]\n",
    "\n",
    "  figure, axs = plt.subplots(figsize=(5, 4))\n",
    "  plt.plot(\n",
    "      t_rkf, VC1_rkf, label=f\"VC1\", linewidth=1\n",
    "  )\n",
    "  plt.plot(\n",
    "      t_rkf, VC2_rkf, label=f\"VC2\", linewidth=1\n",
    "  )\n",
    "  plt.xlabel(\"t\")\n",
    "  plt.ylabel(\"u\")\n",
    "  plt.legend()\n",
    "  plt.tight_layout()\n",
    "  plt.show()\n",
    "\n",
    "  figure, axs = plt.subplots(figsize=(5, 4))\n",
    "  plt.plot(\n",
    "    t_rkf, IL_rkf, label=f\"Il\", linewidth=1\n",
    "  )\n",
    "  plt.xlabel(\"t\")\n",
    "  plt.ylabel(\"A\")\n",
    "  plt.legend()\n",
    "  plt.tight_layout()\n",
    "  plt.show()\n",
    "\n",
    "  # Gráfico 3D das trajetórias\n",
    "  fig = plt.figure(figsize=(12, 8))\n",
    "  ax = fig.add_subplot(111, projection='3d')\n",
    "  ax.plot(VC1_rkf, VC2_rkf, IL_rkf, label=f'R0 = {R}Ω')\n",
    "  ax.set_xlabel('V1 (V)')\n",
    "  ax.set_ylabel('V2 (V)')\n",
    "  ax.set_zlabel('Il (A)')\n",
    "  ax.legend()\n",
    "  plt.tight_layout()\n",
    "  plt.show()\n",
    "\n",
    "  R += 250"
   ]
  },
  {
   "cell_type": "markdown",
   "metadata": {
    "id": "8L0vyQztBgxA"
   },
   "source": [
    "\n",
    "\n",
    "---\n",
    "\n",
    "\n",
    "\n",
    "---\n",
    "\n"
   ]
  }
 ],
 "metadata": {
  "colab": {
   "provenance": [],
   "toc_visible": true
  },
  "kernelspec": {
   "display_name": "Python 3",
   "language": "python",
   "name": "python3"
  },
  "language_info": {
   "codemirror_mode": {
    "name": "ipython",
    "version": 3
   },
   "file_extension": ".py",
   "mimetype": "text/x-python",
   "name": "python",
   "nbconvert_exporter": "python",
   "pygments_lexer": "ipython3",
   "version": "3.12.3"
  }
 },
 "nbformat": 4,
 "nbformat_minor": 0
}
